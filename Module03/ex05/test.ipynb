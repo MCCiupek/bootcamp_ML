{
 "cells": [
  {
   "cell_type": "code",
   "execution_count": 1,
   "id": "05d24dd0",
   "metadata": {},
   "outputs": [],
   "source": [
    "import numpy as np\n",
    "from log_gradient import log_gradient"
   ]
  },
  {
   "cell_type": "code",
   "execution_count": 2,
   "id": "b9d1e548",
   "metadata": {},
   "outputs": [
    {
     "output_type": "execute_result",
     "data": {
      "text/plain": [
       "array([[-0.01798621],\n",
       "       [-0.07194484]])"
      ]
     },
     "metadata": {},
     "execution_count": 2
    }
   ],
   "source": [
    "# Example 1:\n",
    "y1 = np.array([1]).reshape(-1, 1)\n",
    "x1 = np.array([4]).reshape(-1, 1)\n",
    "theta1 = np.array([[2], [0.5]])\n",
    "log_gradient(x1, y1, theta1)\n",
    "# Output:\n",
    "# array([[-0.01798621],\n",
    "# [-0.07194484]])"
   ]
  },
  {
   "cell_type": "code",
   "execution_count": 3,
   "id": "63e41759",
   "metadata": {},
   "outputs": [
    {
     "output_type": "execute_result",
     "data": {
      "text/plain": [
       "array([[0.3715235 ],\n",
       "       [3.25647547]])"
      ]
     },
     "metadata": {},
     "execution_count": 3
    }
   ],
   "source": [
    "# Example 2:\n",
    "y2 = np.array([[1], [0], [1], [0], [1]])\n",
    "x2 = np.array([[4], [7.16], [3.2], [9.37], [0.56]])\n",
    "theta2 = np.array([[2], [0.5]])\n",
    "log_gradient(x2, y2, theta2)\n",
    "# Output:\n",
    "# array([[0.3715235 ],\n",
    "# [3.25647547]])"
   ]
  },
  {
   "cell_type": "code",
   "execution_count": 4,
   "id": "6cdbfb3f",
   "metadata": {},
   "outputs": [
    {
     "output_type": "execute_result",
     "data": {
      "text/plain": [
       "array([[-0.55711039],\n",
       "       [-0.90334809],\n",
       "       [-2.01756886],\n",
       "       [-2.10071291],\n",
       "       [-3.27257351]])"
      ]
     },
     "metadata": {},
     "execution_count": 4
    }
   ],
   "source": [
    "# Example 3:\n",
    "y3 = np.array([[0], [1], [1]])\n",
    "x3 = np.array([[0, 2, 3, 4], [2, 4, 5, 5], [1, 3, 2, 7]])\n",
    "theta3 = np.array([[-2.4], [-1.5], [0.3], [-1.4], [0.7]])\n",
    "log_gradient(x3, y3, theta3)\n",
    "# Output:\n",
    "# array([[-0.55711039],\n",
    "# [-0.90334809],\n",
    "# [-2.01756886],\n",
    "# [-2.10071291],\n",
    "# [-3.27257351]])"
   ]
  }
 ],
 "metadata": {
  "kernelspec": {
   "display_name": "Python 3",
   "language": "python",
   "name": "python3"
  },
  "language_info": {
   "codemirror_mode": {
    "name": "ipython",
    "version": 3
   },
   "file_extension": ".py",
   "mimetype": "text/x-python",
   "name": "python",
   "nbconvert_exporter": "python",
   "pygments_lexer": "ipython3",
   "version": "3.7.4-final"
  }
 },
 "nbformat": 4,
 "nbformat_minor": 5
}