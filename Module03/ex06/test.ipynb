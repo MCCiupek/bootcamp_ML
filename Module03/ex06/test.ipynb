{
 "cells": [
  {
   "cell_type": "code",
   "execution_count": 3,
   "id": "3c57a74c",
   "metadata": {},
   "outputs": [
    {
     "data": {
      "text/plain": [
       "array([[0.99930437],\n",
       "       [1.        ],\n",
       "       [1.        ]])"
      ]
     },
     "execution_count": 3,
     "metadata": {},
     "output_type": "execute_result"
    }
   ],
   "source": [
    "import numpy as np\n",
    "from my_logistic_regression import MyLogisticRegression as MyLR\n",
    "\n",
    "\n",
    "X = np.array([[1., 1., 2., 3.], [5., 8., 13., 21.], [3., 5., 9., 14.]])\n",
    "Y = np.array([[1], [0], [1]])\n",
    "mylr = MyLR([2, 0.5, 7.1, -4.3, 2.09])\n",
    "# Example 0:\n",
    "mylr.predict_(X)\n",
    "# Output:\n",
    "#array([[0.99930437],\n",
    "#[1. ],\n",
    "#[1. ]])\n"
   ]
  },
  {
   "cell_type": "code",
   "execution_count": 4,
   "id": "a53d10a4",
   "metadata": {},
   "outputs": [
    {
     "data": {
      "text/plain": [
       "11.513157421577002"
      ]
     },
     "execution_count": 4,
     "metadata": {},
     "output_type": "execute_result"
    }
   ],
   "source": [
    "# Example 1:\n",
    "mylr.loss_(X,Y)\n",
    "# Output:\n",
    "#11.513157421577004\n"
   ]
  },
  {
   "cell_type": "code",
   "execution_count": 5,
   "id": "d0c3085a",
   "metadata": {},
   "outputs": [
    {
     "data": {
      "text/plain": [
       "array([[ 2.11826435],\n",
       "       [ 0.10154334],\n",
       "       [ 6.43942899],\n",
       "       [-5.10817488],\n",
       "       [ 0.6212541 ]])"
      ]
     },
     "execution_count": 5,
     "metadata": {},
     "output_type": "execute_result"
    }
   ],
   "source": [
    "# Example 2:\n",
    "mylr.fit_(X, Y)\n",
    "mylr.thetas\n",
    "# Output:\n",
    "#array([[ 1.04565272],\n",
    "#[ 0.62555148],\n",
    "#[ 0.38387466],\n",
    "#[ 0.15622435],\n",
    "#[-0.45990099]])\n"
   ]
  },
  {
   "cell_type": "code",
   "execution_count": 6,
   "id": "b46773ea",
   "metadata": {},
   "outputs": [
    {
     "data": {
      "text/plain": [
       "array([[0.57606717],\n",
       "       [0.68599807],\n",
       "       [0.06562156]])"
      ]
     },
     "execution_count": 6,
     "metadata": {},
     "output_type": "execute_result"
    }
   ],
   "source": [
    "# Example 3:\n",
    "mylr.predict_(X)\n",
    "# Output:\n",
    "#array([[0.72865802],\n",
    "#[0.40550072],\n",
    "#[0.45241588]])\n"
   ]
  },
  {
   "cell_type": "code",
   "execution_count": 7,
   "id": "e0efbd54",
   "metadata": {},
   "outputs": [
    {
     "data": {
      "text/plain": [
       "1.4779126923052281"
      ]
     },
     "execution_count": 7,
     "metadata": {},
     "output_type": "execute_result"
    }
   ],
   "source": [
    "# Example 4:\n",
    "mylr.loss_(X,Y)\n",
    "# Output:\n",
    "#0.5432466580663214"
   ]
  },
  {
   "cell_type": "code",
   "execution_count": null,
   "id": "93109e15",
   "metadata": {},
   "outputs": [],
   "source": []
  }
 ],
 "metadata": {
  "kernelspec": {
   "display_name": "Python 3 (ipykernel)",
   "language": "python",
   "name": "python3"
  },
  "language_info": {
   "codemirror_mode": {
    "name": "ipython",
    "version": 3
   },
   "file_extension": ".py",
   "mimetype": "text/x-python",
   "name": "python",
   "nbconvert_exporter": "python",
   "pygments_lexer": "ipython3",
   "version": "3.7.4"
  }
 },
 "nbformat": 4,
 "nbformat_minor": 5
}
