{
 "cells": [
  {
   "cell_type": "code",
   "execution_count": 2,
   "id": "62b584cf",
   "metadata": {},
   "outputs": [],
   "source": [
    "import numpy as np\n",
    "from other_metrics import accuracy_score_, precision_score_, recall_score_, f1_score_\n",
    "#from sklearn.metrics import accuracy_score, precision_score, recall_score, f1_score"
   ]
  },
  {
   "cell_type": "code",
   "execution_count": 3,
   "id": "315c43c0",
   "metadata": {},
   "outputs": [],
   "source": [
    "# Example 1:\n",
    "y_hat = np.array([1, 1, 0, 1, 0, 0, 1, 1])\n",
    "y = np.array([1, 0, 0, 1, 0, 1, 0, 0])"
   ]
  },
  {
   "cell_type": "code",
   "execution_count": 5,
   "id": "25b85872",
   "metadata": {},
   "outputs": [
    {
     "data": {
      "text/plain": [
       "0.5"
      ]
     },
     "execution_count": 5,
     "metadata": {},
     "output_type": "execute_result"
    }
   ],
   "source": [
    "# Accuracy\n",
    "## your implementation\n",
    "accuracy_score_(y, y_hat)\n",
    "## Output:\n",
    "# 0.5\n",
    "## sklearn implementation\n",
    "# accuracy_score(y, y_hat)\n",
    "## Output:\n",
    "# 0.5\n"
   ]
  },
  {
   "cell_type": "code",
   "execution_count": 6,
   "id": "f2161e63",
   "metadata": {},
   "outputs": [
    {
     "data": {
      "text/plain": [
       "0.4"
      ]
     },
     "execution_count": 6,
     "metadata": {},
     "output_type": "execute_result"
    }
   ],
   "source": [
    "# Precision\n",
    "## your implementation\n",
    "precision_score_(y, y_hat)\n",
    "## Output:\n",
    "# 0.4\n",
    "## sklearn implementation\n",
    "# precision_score(y, y_hat)\n",
    "## Output:\n",
    "# 0.4\n"
   ]
  },
  {
   "cell_type": "code",
   "execution_count": 7,
   "id": "6218e458",
   "metadata": {},
   "outputs": [
    {
     "data": {
      "text/plain": [
       "0.6666666666666666"
      ]
     },
     "execution_count": 7,
     "metadata": {},
     "output_type": "execute_result"
    }
   ],
   "source": [
    "# Recall\n",
    "## your implementation\n",
    "recall_score_(y, y_hat)\n",
    "## Output:\n",
    "# 0.6666666666666666\n",
    "## sklearn implementation\n",
    "# recall_score(y, y_hat)\n",
    "## Output:\n",
    "# 0.6666666666666666\n"
   ]
  },
  {
   "cell_type": "code",
   "execution_count": 8,
   "id": "483c20ab",
   "metadata": {},
   "outputs": [
    {
     "data": {
      "text/plain": [
       "0.5"
      ]
     },
     "execution_count": 8,
     "metadata": {},
     "output_type": "execute_result"
    }
   ],
   "source": [
    "# F1-score\n",
    "## your implementation\n",
    "f1_score_(y, y_hat)\n",
    "## Output:\n",
    "# 0.5\n",
    "## sklearn implementation\n",
    "#f1_score(y, y_hat)\n",
    "## Output:"
   ]
  }
 ],
 "metadata": {
  "kernelspec": {
   "display_name": "Python 3 (ipykernel)",
   "language": "python",
   "name": "python3"
  },
  "language_info": {
   "codemirror_mode": {
    "name": "ipython",
    "version": 3
   },
   "file_extension": ".py",
   "mimetype": "text/x-python",
   "name": "python",
   "nbconvert_exporter": "python",
   "pygments_lexer": "ipython3",
   "version": "3.7.4"
  }
 },
 "nbformat": 4,
 "nbformat_minor": 5
}
