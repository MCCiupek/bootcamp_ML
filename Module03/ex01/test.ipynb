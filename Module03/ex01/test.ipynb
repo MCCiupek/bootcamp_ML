{
 "cells": [
  {
   "cell_type": "code",
   "execution_count": 1,
   "id": "8972c0ab",
   "metadata": {},
   "outputs": [],
   "source": [
    "import numpy as np\n",
    "from log_pred import logistic_predict_"
   ]
  },
  {
   "cell_type": "code",
   "execution_count": 3,
   "id": "13a09e80",
   "metadata": {},
   "outputs": [
    {
     "data": {
      "text/plain": [
       "array([[0.98201379]])"
      ]
     },
     "execution_count": 3,
     "metadata": {},
     "output_type": "execute_result"
    }
   ],
   "source": [
    "# Example 1\n",
    "x = np.array([4])\n",
    "theta = np.array([[2], [0.5]])\n",
    "logistic_predict_(x, theta)\n",
    "# Output:\n",
    "# array([[0.98201379]])\n",
    "# Example 1\n"
   ]
  },
  {
   "cell_type": "code",
   "execution_count": 5,
   "id": "727885af",
   "metadata": {},
   "outputs": [
    {
     "data": {
      "text/plain": [
       "array([[0.98201379],\n",
       "       [0.99624161],\n",
       "       [0.97340301],\n",
       "       [0.99875204],\n",
       "       [0.90720705]])"
      ]
     },
     "execution_count": 5,
     "metadata": {},
     "output_type": "execute_result"
    }
   ],
   "source": [
    "x2 = np.array([[4], [7.16], [3.2], [9.37], [0.56]])\n",
    "theta2 = np.array([[2], [0.5]])\n",
    "logistic_predict_(x2, theta2)\n",
    "# Output:\n",
    "# array([[0.98201379],\n",
    "# [0.99624161],\n",
    "# [0.97340301],\n",
    "# [0.99875204],\n",
    "# [0.90720705]])\n"
   ]
  },
  {
   "cell_type": "code",
   "execution_count": 6,
   "id": "8ec1e1fc",
   "metadata": {},
   "outputs": [
    {
     "data": {
      "text/plain": [
       "array([[0.03916572],\n",
       "       [0.00045262],\n",
       "       [0.2890505 ]])"
      ]
     },
     "execution_count": 6,
     "metadata": {},
     "output_type": "execute_result"
    }
   ],
   "source": [
    "# Example 2\n",
    "x3 = np.array([[0, 2, 3, 4], [2, 4, 5, 5], [1, 3, 2, 7]])\n",
    "theta3 = np.array([[-2.4], [-1.5], [0.3], [-1.4], [0.7]])\n",
    "logistic_predict_(x3, theta3)\n",
    "# Output:\n",
    "# array([[0.03916572],\n",
    "# [0.00045262],\n",
    "# [0.2890505 ]])"
   ]
  }
 ],
 "metadata": {
  "kernelspec": {
   "display_name": "Python 3 (ipykernel)",
   "language": "python",
   "name": "python3"
  },
  "language_info": {
   "codemirror_mode": {
    "name": "ipython",
    "version": 3
   },
   "file_extension": ".py",
   "mimetype": "text/x-python",
   "name": "python",
   "nbconvert_exporter": "python",
   "pygments_lexer": "ipython3",
   "version": "3.7.4"
  }
 },
 "nbformat": 4,
 "nbformat_minor": 5
}
