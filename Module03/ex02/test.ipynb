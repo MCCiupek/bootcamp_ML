{
 "cells": [
  {
   "cell_type": "code",
   "execution_count": 4,
   "id": "d4c23891",
   "metadata": {},
   "outputs": [],
   "source": [
    "import numpy as np\n",
    "from log_pred import logistic_predict_\n",
    "from log_loss import log_loss_"
   ]
  },
  {
   "cell_type": "code",
   "execution_count": 5,
   "id": "d29853c4",
   "metadata": {},
   "outputs": [
    {
     "data": {
      "text/plain": [
       "0.018149927917808714"
      ]
     },
     "execution_count": 5,
     "metadata": {},
     "output_type": "execute_result"
    }
   ],
   "source": [
    "# Example 1:\n",
    "y1 = np.array([1])\n",
    "x1 = np.array([4])\n",
    "theta1 = np.array([[2], [0.5]])\n",
    "y_hat1 = logistic_predict_(x1, theta1)\n",
    "log_loss_(y1, y_hat1)\n",
    "# Output:\n",
    "# 0.01814992791780973"
   ]
  },
  {
   "cell_type": "code",
   "execution_count": 7,
   "id": "0eed8985",
   "metadata": {},
   "outputs": [
    {
     "data": {
      "text/plain": [
       "2.4825011602472347"
      ]
     },
     "execution_count": 7,
     "metadata": {},
     "output_type": "execute_result"
    }
   ],
   "source": [
    "# Example 2:\n",
    "y2 = np.array([[1], [0], [1], [0], [1]])\n",
    "x2 = np.array([[4], [7.16], [3.2], [9.37], [0.56]])\n",
    "theta2 = np.array([[2], [0.5]])\n",
    "y_hat2 = logistic_predict_(x2, theta2)\n",
    "log_loss_(y2, y_hat2)\n",
    "# Output:\n",
    "# 2.4825011602474483"
   ]
  },
  {
   "cell_type": "code",
   "execution_count": 8,
   "id": "7943b07b",
   "metadata": {},
   "outputs": [
    {
     "data": {
      "text/plain": [
       "2.9938533108607053"
      ]
     },
     "execution_count": 8,
     "metadata": {},
     "output_type": "execute_result"
    }
   ],
   "source": [
    "# Example 3:\n",
    "y3 = np.array([[0], [1], [1]])\n",
    "x3 = np.array([[0, 2, 3, 4], [2, 4, 5, 5], [1, 3, 2, 7]])\n",
    "theta3 = np.array([[-2.4], [-1.5], [0.3], [-1.4], [0.7]])\n",
    "y_hat3 = logistic_predict_(x3, theta3)\n",
    "log_loss_(y3, y_hat3)\n",
    "# Output:\n",
    "# 2.9938533108607053"
   ]
  }
 ],
 "metadata": {
  "kernelspec": {
   "display_name": "Python 3 (ipykernel)",
   "language": "python",
   "name": "python3"
  },
  "language_info": {
   "codemirror_mode": {
    "name": "ipython",
    "version": 3
   },
   "file_extension": ".py",
   "mimetype": "text/x-python",
   "name": "python",
   "nbconvert_exporter": "python",
   "pygments_lexer": "ipython3",
   "version": "3.7.4"
  }
 },
 "nbformat": 4,
 "nbformat_minor": 5
}
