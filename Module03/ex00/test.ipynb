{
 "cells": [
  {
   "cell_type": "code",
   "execution_count": 1,
   "id": "22cee23f",
   "metadata": {},
   "outputs": [],
   "source": [
    "import numpy as np\n",
    "from sigmoid import sigmoid_"
   ]
  },
  {
   "cell_type": "code",
   "execution_count": 3,
   "id": "17b57162",
   "metadata": {},
   "outputs": [
    {
     "data": {
      "text/plain": [
       "0.01798620996209156"
      ]
     },
     "execution_count": 3,
     "metadata": {},
     "output_type": "execute_result"
    }
   ],
   "source": [
    "# Example 1:\n",
    "x = np.array(-4)\n",
    "sigmoid_(x)\n",
    "# Output:\n",
    "# array([0.01798620996209156])"
   ]
  },
  {
   "cell_type": "code",
   "execution_count": 4,
   "id": "801c0c86",
   "metadata": {},
   "outputs": [
    {
     "data": {
      "text/plain": [
       "0.8807970779778823"
      ]
     },
     "execution_count": 4,
     "metadata": {},
     "output_type": "execute_result"
    }
   ],
   "source": [
    "# Example 2:\n",
    "x = np.array(2)\n",
    "sigmoid_(x)\n",
    "# Output:\n",
    "# array([0.8807970779778823])"
   ]
  },
  {
   "cell_type": "code",
   "execution_count": 5,
   "id": "2f3be0c5",
   "metadata": {},
   "outputs": [
    {
     "data": {
      "text/plain": [
       "array([[0.01798621],\n",
       "       [0.88079708],\n",
       "       [0.5       ]])"
      ]
     },
     "execution_count": 5,
     "metadata": {},
     "output_type": "execute_result"
    }
   ],
   "source": [
    "# Example 3:\n",
    "x = np.array([[-4], [2], [0]])\n",
    "sigmoid_(x)\n",
    "# Output:\n",
    "# array([[0.01798620996209156], [0.8807970779778823], [0.5]])"
   ]
  }
 ],
 "metadata": {
  "kernelspec": {
   "display_name": "Python 3 (ipykernel)",
   "language": "python",
   "name": "python3"
  },
  "language_info": {
   "codemirror_mode": {
    "name": "ipython",
    "version": 3
   },
   "file_extension": ".py",
   "mimetype": "text/x-python",
   "name": "python",
   "nbconvert_exporter": "python",
   "pygments_lexer": "ipython3",
   "version": "3.7.4"
  }
 },
 "nbformat": 4,
 "nbformat_minor": 5
}
