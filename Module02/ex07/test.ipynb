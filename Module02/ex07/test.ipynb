{
 "cells": [
  {
   "cell_type": "code",
   "execution_count": 1,
   "id": "6b0f639e",
   "metadata": {},
   "outputs": [],
   "source": [
    "import numpy as np\n",
    "from polynomial_model import add_polynomial_features"
   ]
  },
  {
   "cell_type": "code",
   "execution_count": 2,
   "id": "3395de9a",
   "metadata": {},
   "outputs": [],
   "source": [
    "x = np.arange(1,6).reshape(-1, 1)"
   ]
  },
  {
   "cell_type": "code",
   "execution_count": 3,
   "id": "4b87e9af",
   "metadata": {},
   "outputs": [
    {
     "data": {
      "text/plain": [
       "array([[  1,   1,   1],\n",
       "       [  2,   4,   8],\n",
       "       [  3,   9,  27],\n",
       "       [  4,  16,  64],\n",
       "       [  5,  25, 125]])"
      ]
     },
     "execution_count": 3,
     "metadata": {},
     "output_type": "execute_result"
    }
   ],
   "source": [
    "# Example 0:\n",
    "add_polynomial_features(x, 3)\n",
    "# Output:\n",
    "# array([[ 1, 1, 1],\n",
    "# [ 2, 4, 8],\n",
    "# [ 3, 9, 27],\n",
    "# [ 4, 16, 64],\n",
    "# [ 5, 25, 125]])"
   ]
  },
  {
   "cell_type": "code",
   "execution_count": 4,
   "id": "7491dc88",
   "metadata": {},
   "outputs": [
    {
     "data": {
      "text/plain": [
       "array([[    1,     1,     1,     1,     1,     1],\n",
       "       [    2,     4,     8,    16,    32,    64],\n",
       "       [    3,     9,    27,    81,   243,   729],\n",
       "       [    4,    16,    64,   256,  1024,  4096],\n",
       "       [    5,    25,   125,   625,  3125, 15625]])"
      ]
     },
     "execution_count": 4,
     "metadata": {},
     "output_type": "execute_result"
    }
   ],
   "source": [
    "# Example 1:\n",
    "add_polynomial_features(x, 6)\n",
    "\n",
    "# Output:\n",
    "# array([[ 1, 1, 1, 1, 1, 1],\n",
    "# [ 2, 4, 8, 16, 32, 64],\n",
    "# [ 3, 9, 27, 81, 243, 729],\n",
    "# [ 4, 16, 64, 256, 1024, 4096],\n",
    "# [ 5, 25, 125, 625, 3125, 15625]])"
   ]
  }
 ],
 "metadata": {
  "kernelspec": {
   "display_name": "Python 3 (ipykernel)",
   "language": "python",
   "name": "python3"
  },
  "language_info": {
   "codemirror_mode": {
    "name": "ipython",
    "version": 3
   },
   "file_extension": ".py",
   "mimetype": "text/x-python",
   "name": "python",
   "nbconvert_exporter": "python",
   "pygments_lexer": "ipython3",
   "version": "3.7.4"
  }
 },
 "nbformat": 4,
 "nbformat_minor": 5
}
