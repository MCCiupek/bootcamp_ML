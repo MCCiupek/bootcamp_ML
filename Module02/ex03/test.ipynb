{
 "cells": [
  {
   "cell_type": "code",
   "execution_count": 2,
   "id": "f87490e6",
   "metadata": {},
   "outputs": [],
   "source": [
    "import numpy as np\n",
    "from gradient import gradient"
   ]
  },
  {
   "cell_type": "code",
   "execution_count": 3,
   "id": "4e6fb16a",
   "metadata": {},
   "outputs": [],
   "source": [
    "x = np.array([\n",
    "[ -6, -7, -9],\n",
    "[ 13, -2, 14],\n",
    "[ -7, 14, -1],\n",
    "[ -8, -4, 6],\n",
    "[ -5, -9, 6],\n",
    "[ 1, -5, 11],\n",
    "[ 9, -11, 8]])\n",
    "y = np.array([2, 14, -13, 5, 12, 4, -19])\n",
    "theta1 = np.array([0, 3, 0.5, -6])"
   ]
  },
  {
   "cell_type": "code",
   "execution_count": 4,
   "id": "ec8ffec5",
   "metadata": {},
   "outputs": [
    {
     "data": {
      "text/plain": [
       "array([ -33.71428571,  -37.35714286,  183.14285714, -393.        ])"
      ]
     },
     "execution_count": 4,
     "metadata": {},
     "output_type": "execute_result"
    }
   ],
   "source": [
    "# Example 0:\n",
    "gradient(x, y, theta1)\n",
    "# Output:\n",
    "# array([ -33.71428571, -37.35714286, 183.14285714, -393.])"
   ]
  },
  {
   "cell_type": "code",
   "execution_count": 5,
   "id": "e2ae1adc",
   "metadata": {},
   "outputs": [
    {
     "data": {
      "text/plain": [
       "array([ -0.71428571,   0.85714286,  23.28571429, -26.42857143])"
      ]
     },
     "execution_count": 5,
     "metadata": {},
     "output_type": "execute_result"
    }
   ],
   "source": [
    "# Example 1:\n",
    "theta2 = np.array([0, 0, 0, 0])\n",
    "gradient(x, y, theta2)\n",
    "# Output:\n",
    "# array([ -0.71428571, 0.85714286, 23.28571429, -26.42857143])"
   ]
  }
 ],
 "metadata": {
  "kernelspec": {
   "display_name": "Python 3 (ipykernel)",
   "language": "python",
   "name": "python3"
  },
  "language_info": {
   "codemirror_mode": {
    "name": "ipython",
    "version": 3
   },
   "file_extension": ".py",
   "mimetype": "text/x-python",
   "name": "python",
   "nbconvert_exporter": "python",
   "pygments_lexer": "ipython3",
   "version": "3.7.4"
  }
 },
 "nbformat": 4,
 "nbformat_minor": 5
}
