{
 "cells": [
  {
   "cell_type": "code",
   "execution_count": 1,
   "id": "8fa73b51",
   "metadata": {},
   "outputs": [],
   "source": [
    "from data_spliter import data_spliter\n",
    "import numpy as np"
   ]
  },
  {
   "cell_type": "code",
   "execution_count": 2,
   "id": "c94f66f4",
   "metadata": {},
   "outputs": [],
   "source": [
    "x1 = np.array([1, 42, 300, 10, 59])\n",
    "y = np.array([0,1,0,1,0])"
   ]
  },
  {
   "cell_type": "code",
   "execution_count": 3,
   "id": "659c0c55",
   "metadata": {},
   "outputs": [
    {
     "name": "stdout",
     "output_type": "stream",
     "text": [
      "4\n"
     ]
    },
    {
     "data": {
      "text/plain": [
       "(array([[ 59],\n",
       "        [  1],\n",
       "        [300],\n",
       "        [ 10]]),\n",
       " array([[42]]),\n",
       " array([0, 0, 0, 1]),\n",
       " array([1]))"
      ]
     },
     "execution_count": 3,
     "metadata": {},
     "output_type": "execute_result"
    }
   ],
   "source": [
    "# Example 0:\n",
    "data_spliter(x1, y, 0.8)\n",
    "# Output:\n",
    "# (array([ 10, 42, 1, 300]), array([59]), array([1, 1, 0, 0]), array([0]))"
   ]
  },
  {
   "cell_type": "code",
   "execution_count": 4,
   "id": "0bc1c64a",
   "metadata": {},
   "outputs": [
    {
     "name": "stdout",
     "output_type": "stream",
     "text": [
      "2\n"
     ]
    },
    {
     "data": {
      "text/plain": [
       "(array([[ 10],\n",
       "        [300]]),\n",
       " array([[ 1],\n",
       "        [59],\n",
       "        [42]]),\n",
       " array([1, 0]),\n",
       " array([0, 0, 1]))"
      ]
     },
     "execution_count": 4,
     "metadata": {},
     "output_type": "execute_result"
    }
   ],
   "source": [
    "# Example 1:\n",
    "data_spliter(x1, y, 0.5)\n",
    "# Output:\n",
    "# (array([42, 10]), array([ 59, 300, 1]), array([1, 1]), array([0, 0, 0]))"
   ]
  },
  {
   "cell_type": "code",
   "execution_count": 5,
   "id": "d18a8b9b",
   "metadata": {},
   "outputs": [],
   "source": [
    "x2 = np.array([ [ 1, 42],\n",
    "[300, 10],\n",
    "[ 59, 1],\n",
    "[300, 59],\n",
    "[ 10, 42]])\n",
    "y = np.array([0,1,0,1,0])"
   ]
  },
  {
   "cell_type": "code",
   "execution_count": 6,
   "id": "80b9409b",
   "metadata": {},
   "outputs": [
    {
     "name": "stdout",
     "output_type": "stream",
     "text": [
      "4\n"
     ]
    },
    {
     "data": {
      "text/plain": [
       "(array([[ 59,   1],\n",
       "        [  1,  42],\n",
       "        [ 10,  42],\n",
       "        [300,  59]]),\n",
       " array([[300,  10]]),\n",
       " array([0, 0, 0, 1]),\n",
       " array([1]))"
      ]
     },
     "execution_count": 6,
     "metadata": {},
     "output_type": "execute_result"
    }
   ],
   "source": [
    "# Example 2:\n",
    "data_spliter(x2, y, 0.8)\n",
    "# Output:\n",
    "# (array([[ 10, 42],\n",
    "# [ 59, 1],\n",
    "# [ 1, 42],\n",
    "# [300, 10]]), array([[300, 59]]), array([0, 0, 0, 1]),array([1]))"
   ]
  },
  {
   "cell_type": "code",
   "execution_count": 7,
   "id": "19c80f26",
   "metadata": {},
   "outputs": [
    {
     "name": "stdout",
     "output_type": "stream",
     "text": [
      "2\n"
     ]
    },
    {
     "data": {
      "text/plain": [
       "(array([[300,  10],\n",
       "        [300,  59]]),\n",
       " array([[10, 42],\n",
       "        [ 1, 42],\n",
       "        [59,  1]]),\n",
       " array([1, 1]),\n",
       " array([0, 0, 0]))"
      ]
     },
     "execution_count": 7,
     "metadata": {},
     "output_type": "execute_result"
    }
   ],
   "source": [
    "# Example 3:\n",
    "data_spliter(x2, y, 0.5)\n",
    "# Output:\n",
    "# (array([[300, 10],\n",
    "# [ 1, 42]]),\n",
    "# array([[ 10, 42],\n",
    "# [300, 59],\n",
    "# [ 59, 1]]),\n",
    "# array([1, 0]),\n",
    "# array([0, 1, 0]))"
   ]
  }
 ],
 "metadata": {
  "kernelspec": {
   "display_name": "Python 3 (ipykernel)",
   "language": "python",
   "name": "python3"
  },
  "language_info": {
   "codemirror_mode": {
    "name": "ipython",
    "version": 3
   },
   "file_extension": ".py",
   "mimetype": "text/x-python",
   "name": "python",
   "nbconvert_exporter": "python",
   "pygments_lexer": "ipython3",
   "version": "3.7.4"
  }
 },
 "nbformat": 4,
 "nbformat_minor": 5
}
