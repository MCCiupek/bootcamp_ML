{
 "cells": [
  {
   "cell_type": "code",
   "execution_count": 10,
   "id": "e753387f",
   "metadata": {},
   "outputs": [],
   "source": [
    "import numpy as np\n",
    "from mylinearregression import MyLinearRegression as MyLR"
   ]
  },
  {
   "cell_type": "code",
   "execution_count": 11,
   "id": "91cd51c3",
   "metadata": {},
   "outputs": [],
   "source": [
    "X = np.array([[1., 1., 2., 3.], [5., 8., 13., 21.], [34., 55., 89., 144.]])\n",
    "Y = np.array([[23.], [48.], [218.]])\n",
    "mylr = MyLR([[1.], [1.], [1.], [1.], [1]])"
   ]
  },
  {
   "cell_type": "code",
   "execution_count": 12,
   "id": "69f18f6a",
   "metadata": {},
   "outputs": [
    {
     "data": {
      "text/plain": [
       "array([[  8.],\n",
       "       [ 48.],\n",
       "       [323.]])"
      ]
     },
     "execution_count": 12,
     "metadata": {},
     "output_type": "execute_result"
    }
   ],
   "source": [
    "# Example 0:\n",
    "Y_pred = mylr.predict_(X)\n",
    "Y_pred\n",
    "# Output:\n",
    "# array([[8.], [48.], [323.]])"
   ]
  },
  {
   "cell_type": "code",
   "execution_count": 13,
   "id": "c76709b6",
   "metadata": {},
   "outputs": [
    {
     "data": {
      "text/plain": [
       "array([[  225.],\n",
       "       [    0.],\n",
       "       [11025.]])"
      ]
     },
     "execution_count": 13,
     "metadata": {},
     "output_type": "execute_result"
    }
   ],
   "source": [
    "# Example 1:\n",
    "mylr.loss_elem_(Y, Y_pred)\n",
    "# Output:\n",
    "# array([[225.], [0.], [11025.]])"
   ]
  },
  {
   "cell_type": "code",
   "execution_count": 16,
   "id": "f86c240b",
   "metadata": {},
   "outputs": [
    {
     "data": {
      "text/plain": [
       "1875.0"
      ]
     },
     "execution_count": 16,
     "metadata": {},
     "output_type": "execute_result"
    }
   ],
   "source": [
    "# Example 2:\n",
    "mylr.loss_(Y, Y_pred)\n",
    "# Output:\n",
    "# 1875.0"
   ]
  },
  {
   "cell_type": "code",
   "execution_count": 17,
   "id": "6e704b12",
   "metadata": {},
   "outputs": [
    {
     "data": {
      "text/plain": [
       "array([[ 1.81883792e+01],\n",
       "       [ 2.76697788e+00],\n",
       "       [-3.74782024e-01],\n",
       "       [ 1.39219585e+00],\n",
       "       [ 1.74138279e-02]])"
      ]
     },
     "execution_count": 17,
     "metadata": {},
     "output_type": "execute_result"
    }
   ],
   "source": [
    "# Example 3:\n",
    "mylr.alpha = 1.6e-4\n",
    "mylr.max_iter = 200000\n",
    "mylr.fit_(X, Y)\n",
    "mylr.thetas\n",
    "# Output:\n",
    "# array([[18.188..], [2.767..], [-0.374..], [1.392..], [0.017..]])"
   ]
  },
  {
   "cell_type": "code",
   "execution_count": 22,
   "id": "340db342",
   "metadata": {},
   "outputs": [
    {
     "data": {
      "text/plain": [
       "array([[ 23.41720822],\n",
       "       [ 47.48924883],\n",
       "       [218.06563769]])"
      ]
     },
     "execution_count": 22,
     "metadata": {},
     "output_type": "execute_result"
    }
   ],
   "source": [
    "# Example 4:\n",
    "Y_pred = mylr.predict_(X)\n",
    "Y_pred\n",
    "# Output:\n",
    "# array([[23.417..], [47.489..], [218.065...]])"
   ]
  },
  {
   "cell_type": "code",
   "execution_count": 23,
   "id": "d70c5bba",
   "metadata": {},
   "outputs": [
    {
     "data": {
      "text/plain": [
       "array([[0.1740627 ],\n",
       "       [0.26086676],\n",
       "       [0.00430831]])"
      ]
     },
     "execution_count": 23,
     "metadata": {},
     "output_type": "execute_result"
    }
   ],
   "source": [
    "# Example 5:\n",
    "mylr.loss_elem_(Y, Y_pred)\n",
    "# Output:\n",
    "# array([[0.174..], [0.260..], [0.004..]])"
   ]
  },
  {
   "cell_type": "code",
   "execution_count": 24,
   "id": "13171ad9",
   "metadata": {},
   "outputs": [
    {
     "data": {
      "text/plain": [
       "0.07320629376956754"
      ]
     },
     "execution_count": 24,
     "metadata": {},
     "output_type": "execute_result"
    }
   ],
   "source": [
    "# Example 6:\n",
    "mylr.loss_(Y, Y_pred)\n",
    "# Output:\n",
    "# 0.0732.."
   ]
  }
 ],
 "metadata": {
  "kernelspec": {
   "display_name": "Python 3 (ipykernel)",
   "language": "python",
   "name": "python3"
  },
  "language_info": {
   "codemirror_mode": {
    "name": "ipython",
    "version": 3
   },
   "file_extension": ".py",
   "mimetype": "text/x-python",
   "name": "python",
   "nbconvert_exporter": "python",
   "pygments_lexer": "ipython3",
   "version": "3.7.4"
  }
 },
 "nbformat": 4,
 "nbformat_minor": 5
}
