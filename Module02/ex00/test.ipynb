{
 "cells": [
  {
   "cell_type": "code",
   "execution_count": 1,
   "id": "a39c2ca1",
   "metadata": {},
   "outputs": [],
   "source": [
    "import numpy as np\n",
    "from prediction import simple_predict"
   ]
  },
  {
   "cell_type": "code",
   "execution_count": 2,
   "id": "9ce5c51f",
   "metadata": {},
   "outputs": [],
   "source": [
    "x = np.arange(1,13).reshape((4,-1))"
   ]
  },
  {
   "cell_type": "code",
   "execution_count": 3,
   "id": "57afa5f6",
   "metadata": {},
   "outputs": [
    {
     "data": {
      "text/plain": [
       "array([5., 5., 5., 5.])"
      ]
     },
     "execution_count": 3,
     "metadata": {},
     "output_type": "execute_result"
    }
   ],
   "source": [
    "# Example 0:\n",
    "theta1 = np.array([5, 0, 0, 0])\n",
    "simple_predict(x, theta1)\n",
    "# Ouput:\n",
    "# array([5., 5., 5., 5.])\n",
    "# Do you understand why y_hat contains only 5’s here?"
   ]
  },
  {
   "cell_type": "code",
   "execution_count": 4,
   "id": "7d7fbb0c",
   "metadata": {},
   "outputs": [
    {
     "data": {
      "text/plain": [
       "array([ 1.,  4.,  7., 10.])"
      ]
     },
     "execution_count": 4,
     "metadata": {},
     "output_type": "execute_result"
    }
   ],
   "source": [
    "# Example 1:\n",
    "theta2 = np.array([0, 1, 0, 0])\n",
    "simple_predict(x, theta2)\n",
    "# Output:\n",
    "# array([ 1., 4., 7., 10.])\n",
    "# Do you understand why y_hat == x[:,0] here?"
   ]
  },
  {
   "cell_type": "code",
   "execution_count": 5,
   "id": "ce60c449",
   "metadata": {},
   "outputs": [
    {
     "data": {
      "text/plain": [
       "array([ 9.64, 24.28, 38.92, 53.56])"
      ]
     },
     "execution_count": 5,
     "metadata": {},
     "output_type": "execute_result"
    }
   ],
   "source": [
    "# Example 2:\n",
    "theta3 = np.array([-1.5, 0.6, 2.3, 1.98])\n",
    "simple_predict(x, theta3)\n",
    "# Output:\n",
    "# array([ 9.64, 24.28, 38.92, 53.56])"
   ]
  },
  {
   "cell_type": "code",
   "execution_count": 6,
   "id": "be02437d",
   "metadata": {},
   "outputs": [
    {
     "data": {
      "text/plain": [
       "array([12.5, 32. , 51.5, 71. ])"
      ]
     },
     "execution_count": 6,
     "metadata": {},
     "output_type": "execute_result"
    }
   ],
   "source": [
    "# Example 3:\n",
    "theta4 = np.array([-3, 1, 2, 3.5])\n",
    "simple_predict(x, theta4)\n",
    "# Output:\n",
    "# array([12.5, 32. , 51.5, 71. ])"
   ]
  }
 ],
 "metadata": {
  "kernelspec": {
   "display_name": "Python 3 (ipykernel)",
   "language": "python",
   "name": "python3"
  },
  "language_info": {
   "codemirror_mode": {
    "name": "ipython",
    "version": 3
   },
   "file_extension": ".py",
   "mimetype": "text/x-python",
   "name": "python",
   "nbconvert_exporter": "python",
   "pygments_lexer": "ipython3",
   "version": "3.7.4"
  }
 },
 "nbformat": 4,
 "nbformat_minor": 5
}
