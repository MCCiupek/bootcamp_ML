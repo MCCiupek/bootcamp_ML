{
 "cells": [
  {
   "cell_type": "code",
   "execution_count": 1,
   "id": "489fde95",
   "metadata": {},
   "outputs": [],
   "source": [
    "import numpy as np\n",
    "from fit import fit_, predict_"
   ]
  },
  {
   "cell_type": "code",
   "execution_count": 2,
   "id": "cf466da0",
   "metadata": {},
   "outputs": [],
   "source": [
    "x = np.array([[0.2, 2., 20.], [0.4, 4., 40.], [0.6, 6., 60.], [0.8, 8., 80.]])\n",
    "y = np.array([[19.6], [-2.8], [-25.2], [-47.6]])\n",
    "theta = np.array([[42.], [1.], [1.], [1.]])"
   ]
  },
  {
   "cell_type": "code",
   "execution_count": 3,
   "id": "1a0c3dfb",
   "metadata": {},
   "outputs": [
    {
     "data": {
      "text/plain": [
       "array([[41.99888822],\n",
       "       [ 0.97792316],\n",
       "       [ 0.77923161],\n",
       "       [-1.20768386]])"
      ]
     },
     "execution_count": 3,
     "metadata": {},
     "output_type": "execute_result"
    }
   ],
   "source": [
    "# Example 0:\n",
    "theta = fit_(x, y, theta, alpha = 0.0005, max_iter=42000)\n",
    "theta\n",
    "# Output:\n",
    "# array([[41.99..],[0.97..], [0.77..], [-1.20..]])"
   ]
  },
  {
   "cell_type": "code",
   "execution_count": 4,
   "id": "2c3cc6a3",
   "metadata": {},
   "outputs": [
    {
     "data": {
      "text/plain": [
       "array([[ 19.59925884],\n",
       "       [ -2.80037055],\n",
       "       [-25.19999994],\n",
       "       [-47.59962933]])"
      ]
     },
     "execution_count": 4,
     "metadata": {},
     "output_type": "execute_result"
    }
   ],
   "source": [
    "# Example 1:\n",
    "predict_(x, theta)\n",
    "# Output:\n",
    "# array([[19.5992..], [-2.8003..], [-25.1999..], [-47.5996..]])"
   ]
  }
 ],
 "metadata": {
  "kernelspec": {
   "display_name": "Python 3 (ipykernel)",
   "language": "python",
   "name": "python3"
  },
  "language_info": {
   "codemirror_mode": {
    "name": "ipython",
    "version": 3
   },
   "file_extension": ".py",
   "mimetype": "text/x-python",
   "name": "python",
   "nbconvert_exporter": "python",
   "pygments_lexer": "ipython3",
   "version": "3.7.4"
  }
 },
 "nbformat": 4,
 "nbformat_minor": 5
}
