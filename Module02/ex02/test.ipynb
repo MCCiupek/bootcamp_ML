{
 "cells": [
  {
   "cell_type": "code",
   "execution_count": 1,
   "id": "219a4b9d",
   "metadata": {},
   "outputs": [],
   "source": [
    "import numpy as np\n",
    "from loss import loss_"
   ]
  },
  {
   "cell_type": "code",
   "execution_count": 2,
   "id": "e65e45c6",
   "metadata": {},
   "outputs": [],
   "source": [
    "X = np.array([0, 15, -9, 7, 12, 3, -21])\n",
    "Y = np.array([2, 14, -13, 5, 12, 4, -19])"
   ]
  },
  {
   "cell_type": "code",
   "execution_count": 3,
   "id": "804dfc7d",
   "metadata": {},
   "outputs": [
    {
     "data": {
      "text/plain": [
       "2.142857142857143"
      ]
     },
     "execution_count": 3,
     "metadata": {},
     "output_type": "execute_result"
    }
   ],
   "source": [
    "# Example 0:\n",
    "loss_(X, Y)\n",
    "# Output:\n",
    "# 2.1428571428571436"
   ]
  },
  {
   "cell_type": "code",
   "execution_count": 4,
   "id": "9903981f",
   "metadata": {},
   "outputs": [
    {
     "data": {
      "text/plain": [
       "0.0"
      ]
     },
     "execution_count": 4,
     "metadata": {},
     "output_type": "execute_result"
    }
   ],
   "source": [
    "# Example 1:\n",
    "loss_(X, X)\n",
    "# Output:\n",
    "# 0.0"
   ]
  }
 ],
 "metadata": {
  "kernelspec": {
   "display_name": "Python 3 (ipykernel)",
   "language": "python",
   "name": "python3"
  },
  "language_info": {
   "codemirror_mode": {
    "name": "ipython",
    "version": 3
   },
   "file_extension": ".py",
   "mimetype": "text/x-python",
   "name": "python",
   "nbconvert_exporter": "python",
   "pygments_lexer": "ipython3",
   "version": "3.7.4"
  }
 },
 "nbformat": 4,
 "nbformat_minor": 5
}
